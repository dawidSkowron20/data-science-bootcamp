{
  "nbformat": 4,
  "nbformat_minor": 0,
  "metadata": {
    "colab": {
      "name": "03_funkcje_statystyczne.ipynb",
      "provenance": [],
      "authorship_tag": "ABX9TyOf92yffZcuRvSympHkaqPL",
      "include_colab_link": true
    },
    "kernelspec": {
      "name": "python3",
      "display_name": "Python 3"
    },
    "language_info": {
      "name": "python"
    }
  },
  "cells": [
    {
      "cell_type": "markdown",
      "metadata": {
        "id": "view-in-github",
        "colab_type": "text"
      },
      "source": [
        "<a href=\"https://colab.research.google.com/github/dawidSkowron20/data-science-bootcamp/blob/main/wprowadzenie_numpy/03_funkcje_statystyczne.ipynb\" target=\"_parent\"><img src=\"https://colab.research.google.com/assets/colab-badge.svg\" alt=\"Open In Colab\"/></a>"
      ]
    },
    {
      "cell_type": "code",
      "execution_count": 1,
      "metadata": {
        "id": "qfSmAci8bE2Z"
      },
      "outputs": [],
      "source": [
        "import numpy as np"
      ]
    },
    {
      "cell_type": "markdown",
      "source": [
        "Funkcje statystyczne"
      ],
      "metadata": {
        "id": "rnfZF0n7biZC"
      }
    },
    {
      "cell_type": "code",
      "source": [
        "price = np.array([[12.40, 12.80, 11.90, 12.60, 1000], # podobne jak na gieldzie \n",
        "                  [12.50, 13.00, 11.70, 12.20, 2000],\n",
        "                  [12.20, 13.40, 12.20, 13.20, 1500]])\n",
        "print(price)"
      ],
      "metadata": {
        "colab": {
          "base_uri": "https://localhost:8080/"
        },
        "id": "rOv5-JT6bfoj",
        "outputId": "9a556e95-c033-4d9c-b9b7-5127fa476112"
      },
      "execution_count": 3,
      "outputs": [
        {
          "output_type": "stream",
          "name": "stdout",
          "text": [
            "[[  12.4   12.8   11.9   12.6 1000. ]\n",
            " [  12.5   13.    11.7   12.2 2000. ]\n",
            " [  12.2   13.4   12.2   13.2 1500. ]]\n"
          ]
        }
      ]
    },
    {
      "cell_type": "markdown",
      "source": [
        "sum()"
      ],
      "metadata": {
        "id": "C5dyczk-b3fP"
      }
    },
    {
      "cell_type": "code",
      "source": [
        "price.sum() # suma wszystkich elementów z tablicy"
      ],
      "metadata": {
        "colab": {
          "base_uri": "https://localhost:8080/"
        },
        "id": "dk_i4OUkbwAE",
        "outputId": "3bcb2e62-9f65-44ca-82af-c436069c341f"
      },
      "execution_count": 4,
      "outputs": [
        {
          "output_type": "execute_result",
          "data": {
            "text/plain": [
              "4650.1"
            ]
          },
          "metadata": {},
          "execution_count": 4
        }
      ]
    },
    {
      "cell_type": "code",
      "source": [
        "price.sum(axis=0) # suma po kolumnach"
      ],
      "metadata": {
        "colab": {
          "base_uri": "https://localhost:8080/"
        },
        "id": "QLskr3Dnb5X7",
        "outputId": "91d8da0f-948d-48db-d8fe-97f405c2f255"
      },
      "execution_count": 5,
      "outputs": [
        {
          "output_type": "execute_result",
          "data": {
            "text/plain": [
              "array([  37.1,   39.2,   35.8,   38. , 4500. ])"
            ]
          },
          "metadata": {},
          "execution_count": 5
        }
      ]
    },
    {
      "cell_type": "code",
      "source": [
        "price.sum(axis=1) # suma po wierszach"
      ],
      "metadata": {
        "colab": {
          "base_uri": "https://localhost:8080/"
        },
        "id": "YfA6ekbscES5",
        "outputId": "d4661579-faf2-4508-d48d-4682049c2e6a"
      },
      "execution_count": 6,
      "outputs": [
        {
          "output_type": "execute_result",
          "data": {
            "text/plain": [
              "array([1049.7, 2049.4, 1551. ])"
            ]
          },
          "metadata": {},
          "execution_count": 6
        }
      ]
    },
    {
      "cell_type": "code",
      "source": [
        "np.sum(price, axis=0)"
      ],
      "metadata": {
        "colab": {
          "base_uri": "https://localhost:8080/"
        },
        "id": "CUrs2KiQcJYH",
        "outputId": "e13e4b25-bce1-4bd5-dc1f-628aa1b81010"
      },
      "execution_count": 7,
      "outputs": [
        {
          "output_type": "execute_result",
          "data": {
            "text/plain": [
              "array([  37.1,   39.2,   35.8,   38. , 4500. ])"
            ]
          },
          "metadata": {},
          "execution_count": 7
        }
      ]
    },
    {
      "cell_type": "markdown",
      "source": [
        "min()"
      ],
      "metadata": {
        "id": "_Jvogk5QcR-3"
      }
    },
    {
      "cell_type": "code",
      "source": [
        "np.min(price, axis=0) # minimum z konkretnej wartości kolumnowej"
      ],
      "metadata": {
        "colab": {
          "base_uri": "https://localhost:8080/"
        },
        "id": "EBDVKHFpcPqK",
        "outputId": "576d58f5-bbd6-4673-c690-b622f98140ef"
      },
      "execution_count": 8,
      "outputs": [
        {
          "output_type": "execute_result",
          "data": {
            "text/plain": [
              "array([  12.2,   12.8,   11.7,   12.2, 1000. ])"
            ]
          },
          "metadata": {},
          "execution_count": 8
        }
      ]
    },
    {
      "cell_type": "markdown",
      "source": [
        "max()"
      ],
      "metadata": {
        "id": "JzdvNuNbcbkb"
      }
    },
    {
      "cell_type": "code",
      "source": [
        "np.max(price, axis=0)"
      ],
      "metadata": {
        "id": "_WLJpOWPcYT0"
      },
      "execution_count": null,
      "outputs": []
    },
    {
      "cell_type": "markdown",
      "source": [
        "median()"
      ],
      "metadata": {
        "id": "zgKFj4zscd9F"
      }
    },
    {
      "cell_type": "code",
      "source": [
        "np.median(price)"
      ],
      "metadata": {
        "colab": {
          "base_uri": "https://localhost:8080/"
        },
        "id": "KX3HpqCacfwA",
        "outputId": "42adaff9-8ccd-49fa-ca71-72033aed8d4a"
      },
      "execution_count": 9,
      "outputs": [
        {
          "output_type": "execute_result",
          "data": {
            "text/plain": [
              "12.6"
            ]
          },
          "metadata": {},
          "execution_count": 9
        }
      ]
    },
    {
      "cell_type": "markdown",
      "source": [
        "mean()"
      ],
      "metadata": {
        "id": "C5O2p9-CcjNA"
      }
    },
    {
      "cell_type": "code",
      "source": [
        "np.mean(price, axis=0)"
      ],
      "metadata": {
        "colab": {
          "base_uri": "https://localhost:8080/"
        },
        "id": "do_KGI2VciZ4",
        "outputId": "bb9b43b1-af59-48cc-d66a-2d139743c42a"
      },
      "execution_count": 10,
      "outputs": [
        {
          "output_type": "execute_result",
          "data": {
            "text/plain": [
              "array([  12.36666667,   13.06666667,   11.93333333,   12.66666667,\n",
              "       1500.        ])"
            ]
          },
          "metadata": {},
          "execution_count": 10
        }
      ]
    },
    {
      "cell_type": "markdown",
      "source": [
        "std()"
      ],
      "metadata": {
        "id": "ZVf90Z1JcoHH"
      }
    },
    {
      "cell_type": "code",
      "source": [
        "np.std(price, axis=0)"
      ],
      "metadata": {
        "colab": {
          "base_uri": "https://localhost:8080/"
        },
        "id": "Vwsu8Qn4cmVR",
        "outputId": "ca5a5ccb-20c8-4004-c642-bcdeb7e651d0"
      },
      "execution_count": 11,
      "outputs": [
        {
          "output_type": "execute_result",
          "data": {
            "text/plain": [
              "array([1.24721913e-01, 2.49443826e-01, 2.05480467e-01, 4.10960934e-01,\n",
              "       4.08248290e+02])"
            ]
          },
          "metadata": {},
          "execution_count": 11
        }
      ]
    },
    {
      "cell_type": "code",
      "source": [
        "np.var(price, axis=0)"
      ],
      "metadata": {
        "colab": {
          "base_uri": "https://localhost:8080/"
        },
        "id": "husrxZmUctBg",
        "outputId": "5bca4cd9-fa91-4f23-a338-d6108ab3d615"
      },
      "execution_count": 12,
      "outputs": [
        {
          "output_type": "execute_result",
          "data": {
            "text/plain": [
              "array([1.55555556e-02, 6.22222222e-02, 4.22222222e-02, 1.68888889e-01,\n",
              "       1.66666667e+05])"
            ]
          },
          "metadata": {},
          "execution_count": 12
        }
      ]
    },
    {
      "cell_type": "code",
      "source": [
        "price.shape"
      ],
      "metadata": {
        "colab": {
          "base_uri": "https://localhost:8080/"
        },
        "id": "tcuvHIs1cwTw",
        "outputId": "24284d2d-476e-4fea-bac6-ee78d666b7d1"
      },
      "execution_count": 13,
      "outputs": [
        {
          "output_type": "execute_result",
          "data": {
            "text/plain": [
              "(3, 5)"
            ]
          },
          "metadata": {},
          "execution_count": 13
        }
      ]
    },
    {
      "cell_type": "code",
      "source": [
        "price.ndim"
      ],
      "metadata": {
        "colab": {
          "base_uri": "https://localhost:8080/"
        },
        "id": "DnxOXOBTc5qD",
        "outputId": "a27ec8b9-8212-417a-f257-f67582bbf432"
      },
      "execution_count": 14,
      "outputs": [
        {
          "output_type": "execute_result",
          "data": {
            "text/plain": [
              "2"
            ]
          },
          "metadata": {},
          "execution_count": 14
        }
      ]
    }
  ]
}